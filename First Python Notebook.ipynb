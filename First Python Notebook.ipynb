{
 "cells": [
  {
   "cell_type": "code",
   "execution_count": 1,
   "id": "80d8c105",
   "metadata": {},
   "outputs": [
    {
     "name": "stdout",
     "output_type": "stream",
     "text": [
      "Hello World\n"
     ]
    }
   ],
   "source": [
    "print('Hello World')"
   ]
  },
  {
   "cell_type": "code",
   "execution_count": 2,
   "id": "5bd9080e",
   "metadata": {},
   "outputs": [],
   "source": [
    "# This is a cell."
   ]
  },
  {
   "cell_type": "code",
   "execution_count": 3,
   "id": "88598818",
   "metadata": {},
   "outputs": [],
   "source": [
    "# Assigning a variable\n",
    "v = 1"
   ]
  },
  {
   "cell_type": "code",
   "execution_count": 4,
   "id": "0687a618",
   "metadata": {},
   "outputs": [
    {
     "data": {
      "text/plain": [
       "1"
      ]
     },
     "execution_count": 4,
     "metadata": {},
     "output_type": "execute_result"
    }
   ],
   "source": [
    "v"
   ]
  },
  {
   "cell_type": "code",
   "execution_count": 5,
   "id": "a87f32a0",
   "metadata": {},
   "outputs": [],
   "source": [
    "# Assign something else\n",
    "ds_one = 'DS1 is awesome!'"
   ]
  },
  {
   "cell_type": "code",
   "execution_count": 6,
   "id": "f1a6785a",
   "metadata": {},
   "outputs": [
    {
     "data": {
      "text/plain": [
       "'DS1 is awesome!'"
      ]
     },
     "execution_count": 6,
     "metadata": {},
     "output_type": "execute_result"
    }
   ],
   "source": [
    "ds_one"
   ]
  },
  {
   "cell_type": "code",
   "execution_count": 7,
   "id": "42f413e9",
   "metadata": {},
   "outputs": [],
   "source": [
    "m = \"m comes before n\""
   ]
  },
  {
   "cell_type": "code",
   "execution_count": 8,
   "id": "19d174d3",
   "metadata": {},
   "outputs": [
    {
     "data": {
      "text/plain": [
       "'m comes before n'"
      ]
     },
     "execution_count": 8,
     "metadata": {},
     "output_type": "execute_result"
    }
   ],
   "source": [
    "m"
   ]
  },
  {
   "cell_type": "code",
   "execution_count": 9,
   "id": "f7a17695",
   "metadata": {},
   "outputs": [
    {
     "name": "stdout",
     "output_type": "stream",
     "text": [
      "m comes before n\n"
     ]
    }
   ],
   "source": [
    "print(m)"
   ]
  },
  {
   "cell_type": "code",
   "execution_count": 10,
   "id": "59b47bfd",
   "metadata": {},
   "outputs": [
    {
     "data": {
      "text/plain": [
       "30"
      ]
     },
     "execution_count": 10,
     "metadata": {},
     "output_type": "execute_result"
    }
   ],
   "source": [
    "49-19"
   ]
  },
  {
   "cell_type": "code",
   "execution_count": 11,
   "id": "751734d0",
   "metadata": {},
   "outputs": [
    {
     "data": {
      "text/plain": [
       "float"
      ]
     },
     "execution_count": 11,
     "metadata": {},
     "output_type": "execute_result"
    }
   ],
   "source": [
    "# Assign a float\n",
    "x = 24.87\n",
    "type(x)"
   ]
  },
  {
   "cell_type": "code",
   "execution_count": 12,
   "id": "ad63d757",
   "metadata": {},
   "outputs": [
    {
     "data": {
      "text/plain": [
       "int"
      ]
     },
     "execution_count": 12,
     "metadata": {},
     "output_type": "execute_result"
    }
   ],
   "source": [
    "# Assign an integer\n",
    "y = 2345\n",
    "type(y)"
   ]
  },
  {
   "cell_type": "code",
   "execution_count": 13,
   "id": "846ce639",
   "metadata": {},
   "outputs": [
    {
     "data": {
      "text/plain": [
       "str"
      ]
     },
     "execution_count": 13,
     "metadata": {},
     "output_type": "execute_result"
    }
   ],
   "source": [
    "# Assign a string\n",
    "z = \"Bet's\"\n",
    "type(z)"
   ]
  },
  {
   "cell_type": "code",
   "execution_count": 14,
   "id": "c5eb5f9e",
   "metadata": {},
   "outputs": [
    {
     "ename": "SyntaxError",
     "evalue": "cannot assign to literal (<ipython-input-14-747969ffb07b>, line 1)",
     "output_type": "error",
     "traceback": [
      "\u001b[1;36m  File \u001b[1;32m\"<ipython-input-14-747969ffb07b>\"\u001b[1;36m, line \u001b[1;32m1\u001b[0m\n\u001b[1;33m    2 = 'hello' # Variable should not be numbers\u001b[0m\n\u001b[1;37m    ^\u001b[0m\n\u001b[1;31mSyntaxError\u001b[0m\u001b[1;31m:\u001b[0m cannot assign to literal\n"
     ]
    }
   ],
   "source": [
    "2 = 'hello' # Variable should not be numbers"
   ]
  },
  {
   "cell_type": "code",
   "execution_count": null,
   "id": "1d2ec5b9",
   "metadata": {},
   "outputs": [],
   "source": [
    "# Variables should not be built in functions i.e. print = 'hi there'"
   ]
  },
  {
   "cell_type": "code",
   "execution_count": 15,
   "id": "709c46e0",
   "metadata": {},
   "outputs": [],
   "source": [
    "# Variable name should not contain spaces i.e. lets do this = 'wow'"
   ]
  },
  {
   "cell_type": "code",
   "execution_count": 16,
   "id": "5bd84f8f",
   "metadata": {},
   "outputs": [],
   "source": [
    "# Variables should ideally be lowercase"
   ]
  },
  {
   "cell_type": "code",
   "execution_count": null,
   "id": "a11b612c",
   "metadata": {},
   "outputs": [],
   "source": []
  }
 ],
 "metadata": {
  "kernelspec": {
   "display_name": "Python 3",
   "language": "python",
   "name": "python3"
  },
  "language_info": {
   "codemirror_mode": {
    "name": "ipython",
    "version": 3
   },
   "file_extension": ".py",
   "mimetype": "text/x-python",
   "name": "python",
   "nbconvert_exporter": "python",
   "pygments_lexer": "ipython3",
   "version": "3.8.8"
  }
 },
 "nbformat": 4,
 "nbformat_minor": 5
}
